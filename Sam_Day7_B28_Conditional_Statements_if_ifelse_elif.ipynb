{
 "cells": [
  {
   "cell_type": "code",
   "execution_count": 1,
   "metadata": {},
   "outputs": [
    {
     "data": {
      "text/plain": [
       "' Notes from Sam_Day7_B28_Conditional_Statements_if_ifelse_elif\\n\\nIntroduction to conditional statements\\n\\n3 conditional statements - if, if else, elif\\n\\nCase study: Bilding a voting application.\\n\\nage criteria ===> 18 or more are only allowed to vote\\n\\n> age = 16\\n\\nif age >= 18:\\n\\tprint(\\'You are elgible to vote\\')\\nelse:\\n\\tprint(\\'You are not elgible to vote as per your age, please try again next year!\\')\\n\\no/p: You are not elgible to vote as per your age, please try again next year!\\')\\n\\n> age = 2\\n\\nif age == 1:\\n\\tprint(f\"As the baby is {age} year old, it will be able to crawl.\")\\nelif age == 2:\\n\\tprint(\"Since the baby is 2 years old, it will be able to stand.\")\\nelif age == 3:\\n\\tprint(\"The baby is 3 years old, it will be able to walk.\")\\nelse:\\n\\tprint(\"The baby should be able to run!\")\\n\\no/p: Since the baby is 2 years old, it will be able to stand.\\n'"
      ]
     },
     "execution_count": 1,
     "metadata": {},
     "output_type": "execute_result"
    }
   ],
   "source": [
    "\"\"\" Notes from Sam_Day7_B28_Conditional_Statements_if_ifelse_elif\n",
    "\n",
    "Introduction to conditional statements\n",
    "\n",
    "3 conditional statements - if, if else, elif\n",
    "\n",
    "Case study: Bilding a voting application.\n",
    "\n",
    "age criteria ===> 18 or more are only allowed to vote\n",
    "\n",
    "> age = 16\n",
    "\n",
    "if age >= 18:\n",
    "\tprint('You are elgible to vote')\n",
    "else:\n",
    "\tprint('You are not elgible to vote as per your age, please try again next year!')\n",
    "\n",
    "o/p: You are not elgible to vote as per your age, please try again next year!')\n",
    "\n",
    "> age = 2\n",
    "\n",
    "if age == 1:\n",
    "\tprint(f\"As the baby is {age} year old, it will be able to crawl.\")\n",
    "elif age == 2:\n",
    "\tprint(\"Since the baby is 2 years old, it will be able to stand.\")\n",
    "elif age == 3:\n",
    "\tprint(\"The baby is 3 years old, it will be able to walk.\")\n",
    "else:\n",
    "\tprint(\"The baby should be able to run!\")\n",
    "\n",
    "o/p: Since the baby is 2 years old, it will be able to stand.\n",
    "\"\"\""
   ]
  },
  {
   "cell_type": "code",
   "execution_count": 2,
   "metadata": {},
   "outputs": [
    {
     "name": "stdout",
     "output_type": "stream",
     "text": [
      "As your income is: 2500\n",
      "Your tax payment for this year will be : 250.0\n"
     ]
    }
   ],
   "source": [
    "# Practise for Day 7 - Conditional Statements if, if else, elif\n",
    "# Application for calculating tax payment based on income\n",
    "\n",
    "Income = 2500\n",
    "\n",
    "if Income >= 100000:\n",
    "    due = Income*1/20\n",
    "    print('As your income is:', Income)\n",
    "    print('Your tax payment for this year will be :', due)\n",
    "elif Income >= 50000 & Income < 100000:\n",
    "    due = Income*1/10\n",
    "    print('As your income is:', Income)\n",
    "    print('Your tax payment for this year will be :', due)\n",
    "elif Income >= 0 & Income < 50000:\n",
    "    due = Income*1/5\n",
    "    print('As your income is:', Income)\n",
    "    print('Your tax payment for this year will be :', due)\n",
    "else:\n",
    "    print('Please enter a valid Income')"
   ]
  },
  {
   "cell_type": "code",
   "execution_count": 3,
   "metadata": {},
   "outputs": [
    {
     "name": "stdout",
     "output_type": "stream",
     "text": [
      "As your income is: 50000\n",
      "Your tax payment for this year will be : 5000.0\n"
     ]
    }
   ],
   "source": [
    "# Practise for Day 7 - Conditional Statements if, if else, elif\n",
    "# Application for calculating tax payment based on income\n",
    "\n",
    "Income = 50000\n",
    "\n",
    "if Income >= 100000:\n",
    "    due = Income*1/20\n",
    "    print('As your income is:', Income)\n",
    "    print('Your tax payment for this year will be :', due)\n",
    "elif Income >= 50000 & Income < 100000:\n",
    "    due = Income*1/10\n",
    "    print('As your income is:', Income)\n",
    "    print('Your tax payment for this year will be :', due)\n",
    "elif Income >= 0 & Income < 50000:\n",
    "    due = Income*1/5\n",
    "    print('As your income is:', Income)\n",
    "    print('Your tax payment for this year will be :', due)\n",
    "else:\n",
    "    print('Please enter a valid Income')"
   ]
  },
  {
   "cell_type": "code",
   "execution_count": 4,
   "metadata": {},
   "outputs": [
    {
     "name": "stdout",
     "output_type": "stream",
     "text": [
      "As your income is: 250000\n",
      "Your tax payment for this year will be : 12500.0\n"
     ]
    }
   ],
   "source": [
    "# Practise for Day 7 - Conditional Statements if, if else, elif\n",
    "# Application for calculating tax payment based on income\n",
    "\n",
    "Income = 250000\n",
    "\n",
    "if Income >= 100000:\n",
    "    due = Income*1/20\n",
    "    print('As your income is:', Income)\n",
    "    print('Your tax payment for this year will be :', due)\n",
    "elif Income >= 50000 & Income < 100000:\n",
    "    due = Income*1/10\n",
    "    print('As your income is:', Income)\n",
    "    print('Your tax payment for this year will be :', due)\n",
    "elif Income >= 0 & Income < 50000:\n",
    "    due = Income*1/5\n",
    "    print('As your income is:', Income)\n",
    "    print('Your tax payment for this year will be :', due)\n",
    "else:\n",
    "    print('Please enter a valid Income')"
   ]
  },
  {
   "cell_type": "code",
   "execution_count": null,
   "metadata": {},
   "outputs": [],
   "source": []
  }
 ],
 "metadata": {
  "kernelspec": {
   "display_name": "Python 3",
   "language": "python",
   "name": "python3"
  },
  "language_info": {
   "codemirror_mode": {
    "name": "ipython",
    "version": 3
   },
   "file_extension": ".py",
   "mimetype": "text/x-python",
   "name": "python",
   "nbconvert_exporter": "python",
   "pygments_lexer": "ipython3",
   "version": "3.8.3"
  }
 },
 "nbformat": 4,
 "nbformat_minor": 4
}
