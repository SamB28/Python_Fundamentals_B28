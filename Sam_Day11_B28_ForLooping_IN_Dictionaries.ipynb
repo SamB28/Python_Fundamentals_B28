{
 "cells": [
  {
   "cell_type": "code",
   "execution_count": 1,
   "metadata": {},
   "outputs": [
    {
     "data": {
      "text/plain": [
       "' Notes from Sam_Day11_B28_ForLooping_IN_Dictionaries\\n\\nIntuction to looping:\\n\\n\\nReq: Students survey poll for favourite languge in a college\\n\\nfav_lang = {\\n\\'sam\\':\\'python\\',\\n\\'a\\':\\'java\\',\\n\\'b\\':\\'c++\\'\\n}\\n\\nprint(fav_lang)\\n{\\'sam\\':\\'python\\',\\'a\\':\\'java\\',\\'b\\':\\'c++\\'}\\n\\nWhat lang did sam pick?\\n> lang = fav_lang[\\'sam\\'].title()\\n  print(f\"Sam\\'s favourite language is: {lang}. \")\\n  \\nFor loop for dictionaries:\\n\\nFor loop syntax for tuple & list\\n\\n> for tempvar in mainvar:\\n\\tprint(tempvar)\\n\\t\\nfor loop syntax for dictionaries -> key,value\\n\\n> for tempvar1,tempvar2 in mainvar.items():\\n\\tprint(tempvar1)\\n\\tprint(tempvar2)\\n\\nExample:\\n1.\\nprint(user_0)\\n> {\\'username\\' : \\'codetraining01\\',\\'first\\' : \\'code\\',\\'dob\\' : \\'01-01-2019\\'}\\n\\nfor key,value in user_0.items():\\n\\tprint(key)\\n\\tprint(value)\\n\\n> username\\n  codetraining01\\n  first\\n  code\\n  dob\\n  01-01-2019\\n  \\n Doing it in better format -\\n \\n for k,v in user_0.items():\\n\\tprint(f\"\\nKey: {k}\")\\n\\tprint(f\"\\nValue: {v}\")\\n\\n> Key: username\\n  Value: codetraining01\\n  \\n  Key: first\\n  Value: code\\n  \\n  Key: dob\\n  Value: 01-01-2019\\n  \\n 2. \\nprint(fav_lang)\\n{\\'sam\\':\\'python\\',\\'a\\':\\'java\\',\\'b\\':\\'c++\\'}\\n\\nfor name, lang in fav_lang.items():\\n\\tprint(f\"{name.title()}\\'s favorite language is {lang.title()}\")\\n\\t\\n>Sam\\'s favorite language is Python\\n a\\'s favorite language is java\\n b\\'s favorite language is c++\\n \\nLooping through Keys or values in a dict\\n\\nfor x in fav_lang.keys(): # These are the keys\\n\\tprint(x)\\n> sam\\n  a\\n  b\\n  \\nfor y in fav_lang.values(): # These are the keys\\n\\tprint(y)\\n>  python\\n   java\\n   c++\\n   \\n   \\n'"
      ]
     },
     "execution_count": 1,
     "metadata": {},
     "output_type": "execute_result"
    }
   ],
   "source": [
    "\"\"\" Notes from Sam_Day11_B28_ForLooping_IN_Dictionaries\n",
    "\n",
    "Intuction to looping:\n",
    "\n",
    "\n",
    "Req: Students survey poll for favourite languge in a college\n",
    "\n",
    "fav_lang = {\n",
    "'sam':'python',\n",
    "'a':'java',\n",
    "'b':'c++'\n",
    "}\n",
    "\n",
    "print(fav_lang)\n",
    "{'sam':'python','a':'java','b':'c++'}\n",
    "\n",
    "What lang did sam pick?\n",
    "> lang = fav_lang['sam'].title()\n",
    "  print(f\"Sam's favourite language is: {lang}. \")\n",
    "  \n",
    "For loop for dictionaries:\n",
    "\n",
    "For loop syntax for tuple & list\n",
    "\n",
    "> for tempvar in mainvar:\n",
    "\tprint(tempvar)\n",
    "\t\n",
    "for loop syntax for dictionaries -> key,value\n",
    "\n",
    "> for tempvar1,tempvar2 in mainvar.items():\n",
    "\tprint(tempvar1)\n",
    "\tprint(tempvar2)\n",
    "\n",
    "Example:\n",
    "1.\n",
    "print(user_0)\n",
    "> {'username' : 'codetraining01','first' : 'code','dob' : '01-01-2019'}\n",
    "\n",
    "for key,value in user_0.items():\n",
    "\tprint(key)\n",
    "\tprint(value)\n",
    "\n",
    "> username\n",
    "  codetraining01\n",
    "  first\n",
    "  code\n",
    "  dob\n",
    "  01-01-2019\n",
    "  \n",
    " Doing it in better format -\n",
    " \n",
    " for k,v in user_0.items():\n",
    "\tprint(f\"\\nKey: {k}\")\n",
    "\tprint(f\"\\nValue: {v}\")\n",
    "\n",
    "> Key: username\n",
    "  Value: codetraining01\n",
    "  \n",
    "  Key: first\n",
    "  Value: code\n",
    "  \n",
    "  Key: dob\n",
    "  Value: 01-01-2019\n",
    "  \n",
    " 2. \n",
    "print(fav_lang)\n",
    "{'sam':'python','a':'java','b':'c++'}\n",
    "\n",
    "for name, lang in fav_lang.items():\n",
    "\tprint(f\"{name.title()}'s favorite language is {lang.title()}\")\n",
    "\t\n",
    ">Sam's favorite language is Python\n",
    " a's favorite language is java\n",
    " b's favorite language is c++\n",
    " \n",
    "Looping through Keys or values in a dict\n",
    "\n",
    "for x in fav_lang.keys(): # These are the keys\n",
    "\tprint(x)\n",
    "> sam\n",
    "  a\n",
    "  b\n",
    "  \n",
    "for y in fav_lang.values(): # These are the keys\n",
    "\tprint(y)\n",
    ">  python\n",
    "   java\n",
    "   c++\n",
    "   \n",
    "   \n",
    "\"\"\"\n"
   ]
  },
  {
   "cell_type": "code",
   "execution_count": 2,
   "metadata": {},
   "outputs": [],
   "source": [
    "# Practise for Day11\n",
    "\n",
    "Employee1_Info = {\n",
    "'firstname' : 'sam',\n",
    "'lastname' : 'b28',\n",
    "'salary' : 25000,\n",
    "'dob' : '10-02-2000'\n",
    "}\n",
    "\n",
    "Employee2_Info = {\n",
    "'firstname' : 'vikram',\n",
    "'lastname' : 'praj',\n",
    "'salary' : 35000,\n",
    "'dob' : '10-03-2000'\n",
    "}\n",
    "\n",
    "Employee3_Info = {\n",
    "'firstname' : 'aravind',\n",
    "'lastname' : 'sagar',\n",
    "'salary' : 40000,\n",
    "'dob' : '10-04-2000'\n",
    "}"
   ]
  },
  {
   "cell_type": "code",
   "execution_count": 3,
   "metadata": {},
   "outputs": [
    {
     "name": "stdout",
     "output_type": "stream",
     "text": [
      "The employee with highest salary is: Aravind, Sagar\n"
     ]
    }
   ],
   "source": [
    "# Code 1 - Find the employee of highest salary\n",
    "\n",
    "if Employee1_Info['salary'] > Employee2_Info['salary'] & Employee1_Info['salary'] > Employee3_Info['salary']:\n",
    "    print(f\"The employee with highest salary is: {Employee1_Info['firstname'].title()}, {Employee1_Info['lastname'].title()}\")\n",
    "elif Employee2_Info['salary'] > Employee1_Info['salary'] & Employee2_Info['salary'] > Employee3_Info['salary']:\n",
    "    print(f\"The employee with highest salary is: {Employee2_Info['firstname'].title()}, {Employee2_Info['lastname'].title()}\")\n",
    "else:\n",
    "    print(f\"The employee with highest salary is: {Employee3_Info['firstname'].title()}, {Employee3_Info['lastname'].title()}\")\n",
    "\n"
   ]
  },
  {
   "cell_type": "code",
   "execution_count": 4,
   "metadata": {},
   "outputs": [
    {
     "name": "stdout",
     "output_type": "stream",
     "text": [
      "Firstname is\n",
      "\n",
      " Sam\n",
      "Lastname is\n",
      "\n",
      " B28\n",
      "Salary is\n"
     ]
    },
    {
     "ename": "AttributeError",
     "evalue": "'int' object has no attribute 'title'",
     "output_type": "error",
     "traceback": [
      "\u001b[1;31m---------------------------------------------------------------------------\u001b[0m",
      "\u001b[1;31mAttributeError\u001b[0m                            Traceback (most recent call last)",
      "\u001b[1;32m<ipython-input-4-f9385aeb4c28>\u001b[0m in \u001b[0;36m<module>\u001b[1;34m\u001b[0m\n\u001b[0;32m      3\u001b[0m \u001b[1;32mfor\u001b[0m \u001b[0mx\u001b[0m\u001b[1;33m,\u001b[0m\u001b[0my\u001b[0m \u001b[1;32min\u001b[0m \u001b[0mEmployee1_Info\u001b[0m\u001b[1;33m.\u001b[0m\u001b[0mitems\u001b[0m\u001b[1;33m(\u001b[0m\u001b[1;33m)\u001b[0m\u001b[1;33m:\u001b[0m\u001b[1;33m\u001b[0m\u001b[1;33m\u001b[0m\u001b[0m\n\u001b[0;32m      4\u001b[0m     \u001b[0mprint\u001b[0m\u001b[1;33m(\u001b[0m\u001b[1;34mf\"{x.title()} is\"\u001b[0m\u001b[1;33m)\u001b[0m\u001b[1;33m\u001b[0m\u001b[1;33m\u001b[0m\u001b[0m\n\u001b[1;32m----> 5\u001b[1;33m     \u001b[0mprint\u001b[0m\u001b[1;33m(\u001b[0m\u001b[1;34mf\"\\n {y.title()}\"\u001b[0m\u001b[1;33m)\u001b[0m\u001b[1;33m\u001b[0m\u001b[1;33m\u001b[0m\u001b[0m\n\u001b[0m",
      "\u001b[1;31mAttributeError\u001b[0m: 'int' object has no attribute 'title'"
     ]
    }
   ],
   "source": [
    "# Code 2 - Use for loop to get desired key, values \n",
    "\n",
    "for x,y in Employee1_Info.items():\n",
    "    print(f\"{x.title()} is\")\n",
    "    print(f\"\\n {y.title()}\")"
   ]
  },
  {
   "cell_type": "code",
   "execution_count": 5,
   "metadata": {},
   "outputs": [
    {
     "name": "stdout",
     "output_type": "stream",
     "text": [
      "\n",
      " Firstname is\n",
      "sam\n",
      "\n",
      " Lastname is\n",
      "b28\n",
      "\n",
      " Salary is\n",
      "25000\n",
      "\n",
      " Dob is\n",
      "10-02-2000\n"
     ]
    }
   ],
   "source": [
    "for x,y in Employee1_Info.items():\n",
    "    print(f\"\\n {x.title()} is\")\n",
    "    print(f\"{y}\")"
   ]
  },
  {
   "cell_type": "code",
   "execution_count": 6,
   "metadata": {},
   "outputs": [
    {
     "name": "stdout",
     "output_type": "stream",
     "text": [
      "\n",
      "Firstname is\n",
      "sam\n",
      "\n",
      "Lastname is\n",
      "b28\n",
      "\n",
      "Salary is\n",
      "25000\n",
      "\n",
      "Dob is\n",
      "10-02-2000\n"
     ]
    }
   ],
   "source": [
    "for x,y in Employee1_Info.items():\n",
    "    print(f\"\\n{x.title()} is\")\n",
    "    print(f\"{y}\")"
   ]
  },
  {
   "cell_type": "code",
   "execution_count": 7,
   "metadata": {},
   "outputs": [
    {
     "name": "stdout",
     "output_type": "stream",
     "text": [
      "Firstname is sam\n",
      "Lastname is b28\n",
      "Salary is 25000\n",
      "Dob is 10-02-2000\n"
     ]
    }
   ],
   "source": [
    "for x,y in Employee1_Info.items():\n",
    "    print(f\"{x.title()} is {y}\")"
   ]
  },
  {
   "cell_type": "code",
   "execution_count": null,
   "metadata": {},
   "outputs": [],
   "source": []
  }
 ],
 "metadata": {
  "kernelspec": {
   "display_name": "Python 3",
   "language": "python",
   "name": "python3"
  },
  "language_info": {
   "codemirror_mode": {
    "name": "ipython",
    "version": 3
   },
   "file_extension": ".py",
   "mimetype": "text/x-python",
   "name": "python",
   "nbconvert_exporter": "python",
   "pygments_lexer": "ipython3",
   "version": "3.8.3"
  }
 },
 "nbformat": 4,
 "nbformat_minor": 4
}
