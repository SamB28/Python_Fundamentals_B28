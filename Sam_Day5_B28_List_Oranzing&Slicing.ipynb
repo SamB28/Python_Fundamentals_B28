{
 "cells": [
  {
   "cell_type": "code",
   "execution_count": 1,
   "metadata": {},
   "outputs": [
    {
     "data": {
      "text/plain": [
       "\" Notes from Sam_Day5_B28_List_Oranzing_en_Slicing\\n\\nOrganizing the list -\\nWays/Methods to do this: 1. Sorted 2. Sort\\n\\tSorted, will sort the data in the list temporarily.\\n\\tSort, will permanently sort list data.\\n\\tReverse, is used to permanently reverse the data order in the lit.\\n\\tLength, is used to find the size of the list.\\nExample: \\n\\nmy_employees = ['a','ba','cd','ef','fa','az','bb']\\n\\n>print(sorted(my_employees))\\n\\t['a','az','ba','bb','cd','ef','fa']\\nprint(my_employees)\\n\\t['a','ba','cd','ef','fa','az','bb']\\n>my_employees.sort()\\nprint(my_employees)\\n\\t['a','az','ba','bb','cd','ef','fa']\\n>my_employees.reverse()\\nprint(my_employees)\\n\\t['fa','ef','cd','bb','ba','az','a']\\n>len(my_employees)\\n\\t7\\n\\t\\nIntroduction to slicing of list -\\nSyntax: [startvalue_index:stopvalue_index:stepcount] # stopvalue_index is always exclusive, which means the data will be read only until 'stopvalue_index-1'\\n#stepcount is the increment in which steps need to be read. If stecount is 2 and start,stop is 0,10. Then data will be read from indexes 0,2,4,6,8\\nhttps://www.learnbyexample.org/python-list-slicing/\\n\\nExample:\\n\\nmy_employees = ['a','ba','cd','ef','fa','az','bb']\\n\\t\\t\\t\\t 0\\t 1\\t  2    3     4    5    6     # are the respective index positions\\n\\nprint(my_employees[0:1])\\n\\t['a']\\nprint(my_employees[0:2])\\n\\t['a','ba']\\nprint(my_employees[2:4])\\n\\t['cd','ef']\\nprint(my_employees[2:7])\\n\\t['cd','ef','fa','az','bb']\\nprint(my_employees[2:7:3])\\n\\t['cd','az']\\n\\t\\n\\t\\n\""
      ]
     },
     "execution_count": 1,
     "metadata": {},
     "output_type": "execute_result"
    }
   ],
   "source": [
    "\"\"\" Notes from Sam_Day5_B28_List_Oranzing_en_Slicing\n",
    "\n",
    "Organizing the list -\n",
    "Ways/Methods to do this: 1. Sorted 2. Sort\n",
    "\tSorted, will sort the data in the list temporarily.\n",
    "\tSort, will permanently sort list data.\n",
    "\tReverse, is used to permanently reverse the data order in the lit.\n",
    "\tLength, is used to find the size of the list.\n",
    "Example: \n",
    "\n",
    "my_employees = ['a','ba','cd','ef','fa','az','bb']\n",
    "\n",
    ">print(sorted(my_employees))\n",
    "\t['a','az','ba','bb','cd','ef','fa']\n",
    "print(my_employees)\n",
    "\t['a','ba','cd','ef','fa','az','bb']\n",
    ">my_employees.sort()\n",
    "print(my_employees)\n",
    "\t['a','az','ba','bb','cd','ef','fa']\n",
    ">my_employees.reverse()\n",
    "print(my_employees)\n",
    "\t['fa','ef','cd','bb','ba','az','a']\n",
    ">len(my_employees)\n",
    "\t7\n",
    "\t\n",
    "Introduction to slicing of list -\n",
    "Syntax: [startvalue_index:stopvalue_index:stepcount] # stopvalue_index is always exclusive, which means the data will be read only until 'stopvalue_index-1'\n",
    "#stepcount is the increment in which steps need to be read. If stecount is 2 and start,stop is 0,10. Then data will be read from indexes 0,2,4,6,8\n",
    "https://www.learnbyexample.org/python-list-slicing/\n",
    "\n",
    "Example:\n",
    "\n",
    "my_employees = ['a','ba','cd','ef','fa','az','bb']\n",
    "\t\t\t\t 0\t 1\t  2    3     4    5    6     # are the respective index positions\n",
    "\n",
    "print(my_employees[0:1])\n",
    "\t['a']\n",
    "print(my_employees[0:2])\n",
    "\t['a','ba']\n",
    "print(my_employees[2:4])\n",
    "\t['cd','ef']\n",
    "print(my_employees[2:7])\n",
    "\t['cd','ef','fa','az','bb']\n",
    "print(my_employees[2:7:3])\n",
    "\t['cd','az']\n",
    "\t\n",
    "\t\n",
    "\"\"\""
   ]
  },
  {
   "cell_type": "code",
   "execution_count": null,
   "metadata": {},
   "outputs": [],
   "source": []
  }
 ],
 "metadata": {
  "kernelspec": {
   "display_name": "Python 3",
   "language": "python",
   "name": "python3"
  },
  "language_info": {
   "codemirror_mode": {
    "name": "ipython",
    "version": 3
   },
   "file_extension": ".py",
   "mimetype": "text/x-python",
   "name": "python",
   "nbconvert_exporter": "python",
   "pygments_lexer": "ipython3",
   "version": "3.8.3"
  }
 },
 "nbformat": 4,
 "nbformat_minor": 4
}
