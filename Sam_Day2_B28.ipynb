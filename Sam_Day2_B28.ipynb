{
 "cells": [
  {
   "cell_type": "code",
   "execution_count": 1,
   "metadata": {},
   "outputs": [
    {
     "ename": "SyntaxError",
     "evalue": "invalid syntax (<ipython-input-1-73830ca1b354>, line 4)",
     "output_type": "error",
     "traceback": [
      "\u001b[1;36m  File \u001b[1;32m\"<ipython-input-1-73830ca1b354>\"\u001b[1;36m, line \u001b[1;32m4\u001b[0m\n\u001b[1;33m    print('Hi! This is'First_name Lastname 'from batch' Batch)\u001b[0m\n\u001b[1;37m                       ^\u001b[0m\n\u001b[1;31mSyntaxError\u001b[0m\u001b[1;31m:\u001b[0m invalid syntax\n"
     ]
    }
   ],
   "source": [
    "First_name = 'Sam' #Declaring first name\n",
    "Lastname = 'Gupta' #Declaring last name\n",
    "Batch = '28' #Declaring batch info\n",
    "print('Hi! This is'First_name Lastname 'from batch' Batch)\n",
    "\n"
   ]
  },
  {
   "cell_type": "code",
   "execution_count": 2,
   "metadata": {},
   "outputs": [
    {
     "name": "stdout",
     "output_type": "stream",
     "text": [
      "SamGupta28\n"
     ]
    }
   ],
   "source": [
    "First_name = 'Sam' #Declaring first name\n",
    "Lastname = 'Gupta' #Declaring last name\n",
    "Batch = '28' #Declaring batch info\n",
    "print(First_name+Lastname+Batch)"
   ]
  },
  {
   "cell_type": "code",
   "execution_count": 3,
   "metadata": {},
   "outputs": [
    {
     "name": "stdout",
     "output_type": "stream",
     "text": [
      "SamGuptafrom batch28\n"
     ]
    }
   ],
   "source": [
    "First_name = 'Sam' #Declaring first name\n",
    "Lastname = 'Gupta' #Declaring last name\n",
    "Batch = '28' #Declaring batch info\n",
    "print(First_name+Lastname+'from batch'+Batch)"
   ]
  },
  {
   "cell_type": "code",
   "execution_count": 4,
   "metadata": {},
   "outputs": [
    {
     "name": "stdout",
     "output_type": "stream",
     "text": [
      "SamGupta from batch 28\n"
     ]
    },
    {
     "ename": "NameError",
     "evalue": "name 'firstname' is not defined",
     "output_type": "error",
     "traceback": [
      "\u001b[1;31m---------------------------------------------------------------------------\u001b[0m",
      "\u001b[1;31mNameError\u001b[0m                                 Traceback (most recent call last)",
      "\u001b[1;32m<ipython-input-4-fbf7d50a0d5e>\u001b[0m in \u001b[0;36m<module>\u001b[1;34m\u001b[0m\n\u001b[0;32m      3\u001b[0m \u001b[0mBatch\u001b[0m \u001b[1;33m=\u001b[0m \u001b[1;34m'28'\u001b[0m \u001b[1;31m#Declaring batch info\u001b[0m\u001b[1;33m\u001b[0m\u001b[1;33m\u001b[0m\u001b[0m\n\u001b[0;32m      4\u001b[0m \u001b[0mprint\u001b[0m\u001b[1;33m(\u001b[0m\u001b[0mFirst_name\u001b[0m\u001b[1;33m+\u001b[0m\u001b[0mLastname\u001b[0m\u001b[1;33m+\u001b[0m\u001b[1;34m' from batch '\u001b[0m\u001b[1;33m+\u001b[0m\u001b[0mBatch\u001b[0m\u001b[1;33m)\u001b[0m\u001b[1;33m\u001b[0m\u001b[1;33m\u001b[0m\u001b[0m\n\u001b[1;32m----> 5\u001b[1;33m \u001b[0mprint\u001b[0m\u001b[1;33m(\u001b[0m\u001b[1;34m'Datatype of firstname is '\u001b[0m \u001b[1;33m+\u001b[0m\u001b[0mtype\u001b[0m\u001b[1;33m(\u001b[0m\u001b[0mfirstname\u001b[0m\u001b[1;33m)\u001b[0m\u001b[1;33m)\u001b[0m\u001b[1;33m\u001b[0m\u001b[1;33m\u001b[0m\u001b[0m\n\u001b[0m",
      "\u001b[1;31mNameError\u001b[0m: name 'firstname' is not defined"
     ]
    }
   ],
   "source": [
    "First_name = 'Sam' #Declaring first name\n",
    "Lastname = 'Gupta' #Declaring last name\n",
    "Batch = '28' #Declaring batch info\n",
    "print(First_name+Lastname+' from batch '+Batch)\n",
    "print('Datatype of firstname is ' +type(firstname))"
   ]
  },
  {
   "cell_type": "code",
   "execution_count": 5,
   "metadata": {},
   "outputs": [
    {
     "name": "stdout",
     "output_type": "stream",
     "text": [
      "SamGupta from batch 28\n",
      "Datatype of firstname is \n"
     ]
    },
    {
     "ename": "NameError",
     "evalue": "name 'firstname' is not defined",
     "output_type": "error",
     "traceback": [
      "\u001b[1;31m---------------------------------------------------------------------------\u001b[0m",
      "\u001b[1;31mNameError\u001b[0m                                 Traceback (most recent call last)",
      "\u001b[1;32m<ipython-input-5-ce77eba79392>\u001b[0m in \u001b[0;36m<module>\u001b[1;34m\u001b[0m\n\u001b[0;32m      3\u001b[0m \u001b[0mBatch\u001b[0m \u001b[1;33m=\u001b[0m \u001b[1;34m'28'\u001b[0m \u001b[1;31m#Declaring batch info\u001b[0m\u001b[1;33m\u001b[0m\u001b[1;33m\u001b[0m\u001b[0m\n\u001b[0;32m      4\u001b[0m \u001b[0mprint\u001b[0m\u001b[1;33m(\u001b[0m\u001b[0mFirst_name\u001b[0m\u001b[1;33m+\u001b[0m\u001b[0mLastname\u001b[0m\u001b[1;33m+\u001b[0m\u001b[1;34m' from batch '\u001b[0m\u001b[1;33m+\u001b[0m\u001b[0mBatch\u001b[0m\u001b[1;33m)\u001b[0m\u001b[1;33m\u001b[0m\u001b[1;33m\u001b[0m\u001b[0m\n\u001b[1;32m----> 5\u001b[1;33m \u001b[0mprint\u001b[0m\u001b[1;33m(\u001b[0m\u001b[1;34m'Datatype of firstname is '\u001b[0m\u001b[1;33m)\u001b[0m \u001b[1;33m+\u001b[0m\u001b[0mtype\u001b[0m\u001b[1;33m(\u001b[0m\u001b[0mfirstname\u001b[0m\u001b[1;33m)\u001b[0m\u001b[1;33m\u001b[0m\u001b[1;33m\u001b[0m\u001b[0m\n\u001b[0m",
      "\u001b[1;31mNameError\u001b[0m: name 'firstname' is not defined"
     ]
    }
   ],
   "source": [
    "First_name = 'Sam' #Declaring first name\n",
    "Lastname = 'Gupta' #Declaring last name\n",
    "Batch = '28' #Declaring batch info\n",
    "print(First_name+Lastname+' from batch '+Batch)\n",
    "print('Datatype of firstname is ') +type(firstname)"
   ]
  },
  {
   "cell_type": "code",
   "execution_count": 6,
   "metadata": {},
   "outputs": [
    {
     "name": "stdout",
     "output_type": "stream",
     "text": [
      "SamGupta from batch 28\n"
     ]
    },
    {
     "ename": "NameError",
     "evalue": "name 'firstname' is not defined",
     "output_type": "error",
     "traceback": [
      "\u001b[1;31m---------------------------------------------------------------------------\u001b[0m",
      "\u001b[1;31mNameError\u001b[0m                                 Traceback (most recent call last)",
      "\u001b[1;32m<ipython-input-6-62021ff831a3>\u001b[0m in \u001b[0;36m<module>\u001b[1;34m\u001b[0m\n\u001b[0;32m      3\u001b[0m \u001b[0mBatch\u001b[0m \u001b[1;33m=\u001b[0m \u001b[1;34m'28'\u001b[0m \u001b[1;31m#Declaring batch info\u001b[0m\u001b[1;33m\u001b[0m\u001b[1;33m\u001b[0m\u001b[0m\n\u001b[0;32m      4\u001b[0m \u001b[0mprint\u001b[0m\u001b[1;33m(\u001b[0m\u001b[0mFirst_name\u001b[0m\u001b[1;33m+\u001b[0m\u001b[0mLastname\u001b[0m\u001b[1;33m+\u001b[0m\u001b[1;34m' from batch '\u001b[0m\u001b[1;33m+\u001b[0m\u001b[0mBatch\u001b[0m\u001b[1;33m)\u001b[0m\u001b[1;33m\u001b[0m\u001b[1;33m\u001b[0m\u001b[0m\n\u001b[1;32m----> 5\u001b[1;33m \u001b[0mtype\u001b[0m\u001b[1;33m(\u001b[0m\u001b[0mfirstname\u001b[0m\u001b[1;33m)\u001b[0m\u001b[1;33m\u001b[0m\u001b[1;33m\u001b[0m\u001b[0m\n\u001b[0m",
      "\u001b[1;31mNameError\u001b[0m: name 'firstname' is not defined"
     ]
    }
   ],
   "source": [
    "First_name = 'Sam' #Declaring first name\n",
    "Lastname = 'Gupta' #Declaring last name\n",
    "Batch = '28' #Declaring batch info\n",
    "print(First_name+Lastname+' from batch '+Batch)\n",
    "type(firstname)"
   ]
  },
  {
   "cell_type": "code",
   "execution_count": 7,
   "metadata": {},
   "outputs": [
    {
     "name": "stdout",
     "output_type": "stream",
     "text": [
      "SamGupta from batch 28\n"
     ]
    },
    {
     "ename": "TypeError",
     "evalue": "can only concatenate str (not \"type\") to str",
     "output_type": "error",
     "traceback": [
      "\u001b[1;31m---------------------------------------------------------------------------\u001b[0m",
      "\u001b[1;31mTypeError\u001b[0m                                 Traceback (most recent call last)",
      "\u001b[1;32m<ipython-input-7-29a5cff2a606>\u001b[0m in \u001b[0;36m<module>\u001b[1;34m\u001b[0m\n\u001b[0;32m      3\u001b[0m \u001b[0mBatch\u001b[0m \u001b[1;33m=\u001b[0m \u001b[1;34m'28'\u001b[0m \u001b[1;31m#Declaring batch info\u001b[0m\u001b[1;33m\u001b[0m\u001b[1;33m\u001b[0m\u001b[0m\n\u001b[0;32m      4\u001b[0m \u001b[0mprint\u001b[0m\u001b[1;33m(\u001b[0m\u001b[0mFirst_name\u001b[0m\u001b[1;33m+\u001b[0m\u001b[0mLastname\u001b[0m\u001b[1;33m+\u001b[0m\u001b[1;34m' from batch '\u001b[0m\u001b[1;33m+\u001b[0m\u001b[0mBatch\u001b[0m\u001b[1;33m)\u001b[0m\u001b[1;33m\u001b[0m\u001b[1;33m\u001b[0m\u001b[0m\n\u001b[1;32m----> 5\u001b[1;33m \u001b[0mprint\u001b[0m\u001b[1;33m(\u001b[0m\u001b[1;34m'Datatype of firstname is '\u001b[0m \u001b[1;33m+\u001b[0m\u001b[0mtype\u001b[0m\u001b[1;33m(\u001b[0m\u001b[0mFirst_name\u001b[0m\u001b[1;33m)\u001b[0m\u001b[1;33m)\u001b[0m\u001b[1;33m\u001b[0m\u001b[1;33m\u001b[0m\u001b[0m\n\u001b[0m",
      "\u001b[1;31mTypeError\u001b[0m: can only concatenate str (not \"type\") to str"
     ]
    }
   ],
   "source": [
    "First_name = 'Sam' #Declaring first name\n",
    "Lastname = 'Gupta' #Declaring last name\n",
    "Batch = '28' #Declaring batch info\n",
    "print(First_name+Lastname+' from batch '+Batch)\n",
    "print('Datatype of firstname is ' +type(First_name))"
   ]
  },
  {
   "cell_type": "code",
   "execution_count": 8,
   "metadata": {},
   "outputs": [
    {
     "name": "stdout",
     "output_type": "stream",
     "text": [
      "SamGupta from batch 28\n",
      "Datatype of firstname is \n"
     ]
    },
    {
     "ename": "NameError",
     "evalue": "name 'firstname' is not defined",
     "output_type": "error",
     "traceback": [
      "\u001b[1;31m---------------------------------------------------------------------------\u001b[0m",
      "\u001b[1;31mNameError\u001b[0m                                 Traceback (most recent call last)",
      "\u001b[1;32m<ipython-input-8-ce77eba79392>\u001b[0m in \u001b[0;36m<module>\u001b[1;34m\u001b[0m\n\u001b[0;32m      3\u001b[0m \u001b[0mBatch\u001b[0m \u001b[1;33m=\u001b[0m \u001b[1;34m'28'\u001b[0m \u001b[1;31m#Declaring batch info\u001b[0m\u001b[1;33m\u001b[0m\u001b[1;33m\u001b[0m\u001b[0m\n\u001b[0;32m      4\u001b[0m \u001b[0mprint\u001b[0m\u001b[1;33m(\u001b[0m\u001b[0mFirst_name\u001b[0m\u001b[1;33m+\u001b[0m\u001b[0mLastname\u001b[0m\u001b[1;33m+\u001b[0m\u001b[1;34m' from batch '\u001b[0m\u001b[1;33m+\u001b[0m\u001b[0mBatch\u001b[0m\u001b[1;33m)\u001b[0m\u001b[1;33m\u001b[0m\u001b[1;33m\u001b[0m\u001b[0m\n\u001b[1;32m----> 5\u001b[1;33m \u001b[0mprint\u001b[0m\u001b[1;33m(\u001b[0m\u001b[1;34m'Datatype of firstname is '\u001b[0m\u001b[1;33m)\u001b[0m \u001b[1;33m+\u001b[0m\u001b[0mtype\u001b[0m\u001b[1;33m(\u001b[0m\u001b[0mfirstname\u001b[0m\u001b[1;33m)\u001b[0m\u001b[1;33m\u001b[0m\u001b[1;33m\u001b[0m\u001b[0m\n\u001b[0m",
      "\u001b[1;31mNameError\u001b[0m: name 'firstname' is not defined"
     ]
    }
   ],
   "source": [
    "First_name = 'Sam' #Declaring first name\n",
    "Lastname = 'Gupta' #Declaring last name\n",
    "Batch = '28' #Declaring batch info\n",
    "print(First_name+Lastname+' from batch '+Batch)\n",
    "print('Datatype of firstname is ') +type(firstname)"
   ]
  },
  {
   "cell_type": "code",
   "execution_count": 9,
   "metadata": {},
   "outputs": [
    {
     "name": "stdout",
     "output_type": "stream",
     "text": [
      "SamGupta from batch 28\n",
      "Datatype of firstname is \n"
     ]
    },
    {
     "ename": "TypeError",
     "evalue": "unsupported operand type(s) for +: 'NoneType' and 'type'",
     "output_type": "error",
     "traceback": [
      "\u001b[1;31m---------------------------------------------------------------------------\u001b[0m",
      "\u001b[1;31mTypeError\u001b[0m                                 Traceback (most recent call last)",
      "\u001b[1;32m<ipython-input-9-47626e6de0e5>\u001b[0m in \u001b[0;36m<module>\u001b[1;34m\u001b[0m\n\u001b[0;32m      3\u001b[0m \u001b[0mBatch\u001b[0m \u001b[1;33m=\u001b[0m \u001b[1;34m'28'\u001b[0m \u001b[1;31m#Declaring batch info\u001b[0m\u001b[1;33m\u001b[0m\u001b[1;33m\u001b[0m\u001b[0m\n\u001b[0;32m      4\u001b[0m \u001b[0mprint\u001b[0m\u001b[1;33m(\u001b[0m\u001b[0mFirst_name\u001b[0m\u001b[1;33m+\u001b[0m\u001b[0mLastname\u001b[0m\u001b[1;33m+\u001b[0m\u001b[1;34m' from batch '\u001b[0m\u001b[1;33m+\u001b[0m\u001b[0mBatch\u001b[0m\u001b[1;33m)\u001b[0m\u001b[1;33m\u001b[0m\u001b[1;33m\u001b[0m\u001b[0m\n\u001b[1;32m----> 5\u001b[1;33m \u001b[0mprint\u001b[0m\u001b[1;33m(\u001b[0m\u001b[1;34m'Datatype of firstname is '\u001b[0m\u001b[1;33m)\u001b[0m \u001b[1;33m+\u001b[0m\u001b[0mtype\u001b[0m\u001b[1;33m(\u001b[0m\u001b[0mFirst_name\u001b[0m\u001b[1;33m)\u001b[0m\u001b[1;33m\u001b[0m\u001b[1;33m\u001b[0m\u001b[0m\n\u001b[0m",
      "\u001b[1;31mTypeError\u001b[0m: unsupported operand type(s) for +: 'NoneType' and 'type'"
     ]
    }
   ],
   "source": [
    "First_name = 'Sam' #Declaring first name\n",
    "Lastname = 'Gupta' #Declaring last name\n",
    "Batch = '28' #Declaring batch info\n",
    "print(First_name+Lastname+' from batch '+Batch)\n",
    "print('Datatype of firstname is ') +type(First_name)"
   ]
  },
  {
   "cell_type": "code",
   "execution_count": 10,
   "metadata": {},
   "outputs": [
    {
     "ename": "SyntaxError",
     "evalue": "invalid syntax (<ipython-input-10-24cfad5b4844>, line 5)",
     "output_type": "error",
     "traceback": [
      "\u001b[1;36m  File \u001b[1;32m\"<ipython-input-10-24cfad5b4844>\"\u001b[1;36m, line \u001b[1;32m5\u001b[0m\n\u001b[1;33m    print('Datatype of firstname is ') type(First_name)\u001b[0m\n\u001b[1;37m                                       ^\u001b[0m\n\u001b[1;31mSyntaxError\u001b[0m\u001b[1;31m:\u001b[0m invalid syntax\n"
     ]
    }
   ],
   "source": [
    "First_name = 'Sam' #Declaring first name\n",
    "Lastname = 'Gupta' #Declaring last name\n",
    "Batch = '28' #Declaring batch info\n",
    "print(First_name+Lastname+' from batch '+Batch)\n",
    "print('Datatype of firstname is ') type(First_name)"
   ]
  },
  {
   "cell_type": "code",
   "execution_count": 11,
   "metadata": {},
   "outputs": [
    {
     "name": "stdout",
     "output_type": "stream",
     "text": [
      "SamGupta from batch 28\n",
      "Datatype of firstname is \n"
     ]
    },
    {
     "ename": "TypeError",
     "evalue": "unsupported operand type(s) for +: 'NoneType' and 'type'",
     "output_type": "error",
     "traceback": [
      "\u001b[1;31m---------------------------------------------------------------------------\u001b[0m",
      "\u001b[1;31mTypeError\u001b[0m                                 Traceback (most recent call last)",
      "\u001b[1;32m<ipython-input-11-c0490c9e96ea>\u001b[0m in \u001b[0;36m<module>\u001b[1;34m\u001b[0m\n\u001b[0;32m      3\u001b[0m \u001b[0mBatch\u001b[0m \u001b[1;33m=\u001b[0m \u001b[1;34m'28'\u001b[0m \u001b[1;31m#Declaring batch info\u001b[0m\u001b[1;33m\u001b[0m\u001b[1;33m\u001b[0m\u001b[0m\n\u001b[0;32m      4\u001b[0m \u001b[0mprint\u001b[0m\u001b[1;33m(\u001b[0m\u001b[0mFirst_name\u001b[0m\u001b[1;33m+\u001b[0m\u001b[0mLastname\u001b[0m\u001b[1;33m+\u001b[0m\u001b[1;34m' from batch '\u001b[0m\u001b[1;33m+\u001b[0m\u001b[0mBatch\u001b[0m\u001b[1;33m)\u001b[0m\u001b[1;33m\u001b[0m\u001b[1;33m\u001b[0m\u001b[0m\n\u001b[1;32m----> 5\u001b[1;33m \u001b[0mprint\u001b[0m\u001b[1;33m(\u001b[0m\u001b[1;34m'Datatype of firstname is '\u001b[0m\u001b[1;33m)\u001b[0m \u001b[1;33m+\u001b[0m \u001b[0mtype\u001b[0m\u001b[1;33m(\u001b[0m\u001b[0mFirst_name\u001b[0m\u001b[1;33m)\u001b[0m\u001b[1;33m\u001b[0m\u001b[1;33m\u001b[0m\u001b[0m\n\u001b[0m",
      "\u001b[1;31mTypeError\u001b[0m: unsupported operand type(s) for +: 'NoneType' and 'type'"
     ]
    }
   ],
   "source": [
    "First_name = 'Sam' #Declaring first name\n",
    "Lastname = 'Gupta' #Declaring last name\n",
    "Batch = '28' #Declaring batch info\n",
    "print(First_name+Lastname+' from batch '+Batch)\n",
    "print('Datatype of firstname is ') + type(First_name)"
   ]
  },
  {
   "cell_type": "code",
   "execution_count": 12,
   "metadata": {},
   "outputs": [
    {
     "name": "stdout",
     "output_type": "stream",
     "text": [
      "SamGupta from batch 28\n"
     ]
    },
    {
     "data": {
      "text/plain": [
       "str"
      ]
     },
     "execution_count": 12,
     "metadata": {},
     "output_type": "execute_result"
    }
   ],
   "source": [
    "First_name = 'Sam' #Declaring first name\n",
    "Lastname = 'Gupta' #Declaring last name\n",
    "Batch = '28' #Declaring batch info\n",
    "print(First_name+Lastname+' from batch '+Batch)\n",
    "type(First_name)"
   ]
  },
  {
   "cell_type": "code",
   "execution_count": 13,
   "metadata": {},
   "outputs": [
    {
     "name": "stdout",
     "output_type": "stream",
     "text": [
      "SamGupta from batch 28\n",
      "Datatype of firstname is \n"
     ]
    },
    {
     "data": {
      "text/plain": [
       "str"
      ]
     },
     "execution_count": 13,
     "metadata": {},
     "output_type": "execute_result"
    }
   ],
   "source": [
    "First_name = 'Sam' #Declaring first name\n",
    "Lastname = 'Gupta' #Declaring last name\n",
    "Batch = '28' #Declaring batch info\n",
    "print(First_name+Lastname+' from batch '+Batch)\n",
    "print('Datatype of firstname is ') \n",
    "type(First_name)"
   ]
  },
  {
   "cell_type": "code",
   "execution_count": 14,
   "metadata": {},
   "outputs": [
    {
     "name": "stdout",
     "output_type": "stream",
     "text": [
      "SamGupta from batch 28\n",
      "Datatype of firstname is type(First_name)\n"
     ]
    }
   ],
   "source": [
    "First_name = 'Sam' #Declaring first name\n",
    "Lastname = 'Gupta' #Declaring last name\n",
    "Batch = '28' #Declaring batch info\n",
    "print(First_name+Lastname+' from batch '+Batch)\n",
    "print('Datatype of firstname is type(First_name)')"
   ]
  },
  {
   "cell_type": "code",
   "execution_count": 15,
   "metadata": {},
   "outputs": [
    {
     "name": "stdout",
     "output_type": "stream",
     "text": [
      "SamGupta from batch 28\n",
      "Datatype of firstname is \n",
      "Datatype of lastname is \n",
      "Datatype of batch is \n"
     ]
    },
    {
     "data": {
      "text/plain": [
       "str"
      ]
     },
     "execution_count": 15,
     "metadata": {},
     "output_type": "execute_result"
    }
   ],
   "source": [
    "First_name = 'Sam' #Declaring first name\n",
    "Lastname = 'Gupta' #Declaring last name\n",
    "Batch = '28' #Declaring batch info\n",
    "print(First_name+Lastname+' from batch '+Batch)\n",
    "print('Datatype of firstname is ') \n",
    "type(First_name)\n",
    "print('Datatype of lastname is ') \n",
    "type(Lastname)\n",
    "print('Datatype of batch is ') \n",
    "type(Batch)"
   ]
  },
  {
   "cell_type": "code",
   "execution_count": 16,
   "metadata": {},
   "outputs": [
    {
     "name": "stdout",
     "output_type": "stream",
     "text": [
      "Datatype of batch is \n"
     ]
    },
    {
     "data": {
      "text/plain": [
       "str"
      ]
     },
     "execution_count": 16,
     "metadata": {},
     "output_type": "execute_result"
    }
   ],
   "source": [
    "First_name = 'Sam' #Declaring first name\n",
    "Lastname = 'Gupta' #Declaring last name\n",
    "Batch = '28' #Declaring batch info\n",
    "print('Datatype of batch is ') \n",
    "type(Batch)"
   ]
  },
  {
   "cell_type": "code",
   "execution_count": 17,
   "metadata": {},
   "outputs": [
    {
     "name": "stdout",
     "output_type": "stream",
     "text": [
      "Hi, this isSamGupta from batch 28\n",
      "Datatype of batch is \n"
     ]
    },
    {
     "data": {
      "text/plain": [
       "str"
      ]
     },
     "execution_count": 17,
     "metadata": {},
     "output_type": "execute_result"
    }
   ],
   "source": [
    "First_name = 'Sam' #Declaring first name\n",
    "Lastname = 'Gupta' #Declaring last name\n",
    "Batch = '28' #Declaring batch info\n",
    "print('Hi, this is' + First_name+Lastname+' from batch '+Batch)\n",
    "print('Datatype of batch is ') \n",
    "type(Batch)"
   ]
  },
  {
   "cell_type": "code",
   "execution_count": 18,
   "metadata": {},
   "outputs": [
    {
     "name": "stdout",
     "output_type": "stream",
     "text": [
      "Hi, this isSamGupta from batch 28\n"
     ]
    },
    {
     "ename": "TypeError",
     "evalue": "can only concatenate str (not \"int\") to str",
     "output_type": "error",
     "traceback": [
      "\u001b[1;31m---------------------------------------------------------------------------\u001b[0m",
      "\u001b[1;31mTypeError\u001b[0m                                 Traceback (most recent call last)",
      "\u001b[1;32m<ipython-input-18-84ee2f91b11d>\u001b[0m in \u001b[0;36m<module>\u001b[1;34m\u001b[0m\n\u001b[0;32m      4\u001b[0m \u001b[0mDay_number\u001b[0m \u001b[1;33m=\u001b[0m \u001b[1;36m2\u001b[0m \u001b[1;31m#Declaring the day of this class\u001b[0m\u001b[1;33m\u001b[0m\u001b[1;33m\u001b[0m\u001b[0m\n\u001b[0;32m      5\u001b[0m \u001b[0mprint\u001b[0m\u001b[1;33m(\u001b[0m\u001b[1;34m'Hi, this is'\u001b[0m \u001b[1;33m+\u001b[0m \u001b[0mFirst_name\u001b[0m\u001b[1;33m+\u001b[0m\u001b[0mLastname\u001b[0m\u001b[1;33m+\u001b[0m\u001b[1;34m' from batch '\u001b[0m\u001b[1;33m+\u001b[0m\u001b[0mBatch\u001b[0m\u001b[1;33m)\u001b[0m\u001b[1;33m\u001b[0m\u001b[1;33m\u001b[0m\u001b[0m\n\u001b[1;32m----> 6\u001b[1;33m \u001b[0mprint\u001b[0m\u001b[1;33m(\u001b[0m\u001b[1;34m'Today is our'\u001b[0m \u001b[1;33m+\u001b[0m \u001b[0mDay_number\u001b[0m \u001b[1;33m+\u001b[0m \u001b[1;34m'nd day'\u001b[0m\u001b[1;33m)\u001b[0m\u001b[1;33m\u001b[0m\u001b[1;33m\u001b[0m\u001b[0m\n\u001b[0m\u001b[0;32m      7\u001b[0m \u001b[0mprint\u001b[0m\u001b[1;33m(\u001b[0m\u001b[1;34m'Datatype of firstname is '\u001b[0m\u001b[1;33m)\u001b[0m\u001b[1;33m\u001b[0m\u001b[1;33m\u001b[0m\u001b[0m\n\u001b[0;32m      8\u001b[0m \u001b[0mtype\u001b[0m\u001b[1;33m(\u001b[0m\u001b[0mFirst_name\u001b[0m\u001b[1;33m)\u001b[0m\u001b[1;33m\u001b[0m\u001b[1;33m\u001b[0m\u001b[0m\n",
      "\u001b[1;31mTypeError\u001b[0m: can only concatenate str (not \"int\") to str"
     ]
    }
   ],
   "source": [
    "First_name = 'Sam' #Declaring first name\n",
    "Lastname = 'Gupta' #Declaring last name\n",
    "Batch = '28' #Declaring batch info\n",
    "Day_number = 2 #Declaring the day of this class\n",
    "print('Hi, this is' + First_name+Lastname+' from batch '+Batch)\n",
    "print('Today is our' + Day_number + 'nd day')\n",
    "print('Datatype of firstname is ') \n",
    "type(First_name)\n",
    "print('Datatype of lastname is ') \n",
    "type(Lastname)\n",
    "print('Datatype of batch is ') \n",
    "type(Batch)\n",
    "print('Datatype of day number is ') \n",
    "type(Day_number)"
   ]
  },
  {
   "cell_type": "code",
   "execution_count": 19,
   "metadata": {},
   "outputs": [
    {
     "name": "stdout",
     "output_type": "stream",
     "text": [
      "Hi, this isSamGupta from batch 28\n",
      "Datatype of firstname is \n",
      "Datatype of lastname is \n",
      "Datatype of batch is \n",
      "Datatype of day number is \n"
     ]
    },
    {
     "data": {
      "text/plain": [
       "int"
      ]
     },
     "execution_count": 19,
     "metadata": {},
     "output_type": "execute_result"
    }
   ],
   "source": [
    "First_name = 'Sam' #Declaring first name\n",
    "Lastname = 'Gupta' #Declaring last name\n",
    "Batch = '28' #Declaring batch info\n",
    "Day_number = 2 #Declaring the day of this class\n",
    "print('Hi, this is' + First_name+Lastname+' from batch '+Batch)\n",
    "print('Datatype of firstname is ') \n",
    "type(First_name)\n",
    "print('Datatype of lastname is ') \n",
    "type(Lastname)\n",
    "print('Datatype of batch is ') \n",
    "type(Batch)\n",
    "print('Datatype of day number is ') \n",
    "type(Day_number)"
   ]
  },
  {
   "cell_type": "code",
   "execution_count": 20,
   "metadata": {},
   "outputs": [
    {
     "name": "stdout",
     "output_type": "stream",
     "text": [
      "Hi, this isSamGupta from batch 28\n"
     ]
    },
    {
     "ename": "TypeError",
     "evalue": "can only concatenate str (not \"int\") to str",
     "output_type": "error",
     "traceback": [
      "\u001b[1;31m---------------------------------------------------------------------------\u001b[0m",
      "\u001b[1;31mTypeError\u001b[0m                                 Traceback (most recent call last)",
      "\u001b[1;32m<ipython-input-20-b34187e351a4>\u001b[0m in \u001b[0;36m<module>\u001b[1;34m\u001b[0m\n\u001b[0;32m      4\u001b[0m \u001b[0mDay_number\u001b[0m \u001b[1;33m=\u001b[0m \u001b[1;36m2\u001b[0m \u001b[1;31m#Declaring the day of this class\u001b[0m\u001b[1;33m\u001b[0m\u001b[1;33m\u001b[0m\u001b[0m\n\u001b[0;32m      5\u001b[0m \u001b[0mprint\u001b[0m\u001b[1;33m(\u001b[0m\u001b[1;34m'Hi, this is'\u001b[0m \u001b[1;33m+\u001b[0m \u001b[0mFirst_name\u001b[0m\u001b[1;33m+\u001b[0m\u001b[1;34m''\u001b[0m\u001b[1;33m+\u001b[0m\u001b[0mLastname\u001b[0m\u001b[1;33m+\u001b[0m\u001b[1;34m' from batch '\u001b[0m\u001b[1;33m+\u001b[0m\u001b[0mBatch\u001b[0m\u001b[1;33m)\u001b[0m\u001b[1;33m\u001b[0m\u001b[1;33m\u001b[0m\u001b[0m\n\u001b[1;32m----> 6\u001b[1;33m \u001b[0mprint\u001b[0m\u001b[1;33m(\u001b[0m\u001b[1;34m'Today is our'\u001b[0m \u001b[1;33m+\u001b[0m \u001b[0mDay_number\u001b[0m \u001b[1;33m+\u001b[0m \u001b[1;34m'nd day'\u001b[0m\u001b[1;33m)\u001b[0m\u001b[1;33m\u001b[0m\u001b[1;33m\u001b[0m\u001b[0m\n\u001b[0m\u001b[0;32m      7\u001b[0m \u001b[0mprint\u001b[0m\u001b[1;33m(\u001b[0m\u001b[1;34m'Datatype of firstname is '\u001b[0m\u001b[1;33m)\u001b[0m\u001b[1;33m\u001b[0m\u001b[1;33m\u001b[0m\u001b[0m\n\u001b[0;32m      8\u001b[0m \u001b[0mtype\u001b[0m\u001b[1;33m(\u001b[0m\u001b[0mFirst_name\u001b[0m\u001b[1;33m)\u001b[0m\u001b[1;33m\u001b[0m\u001b[1;33m\u001b[0m\u001b[0m\n",
      "\u001b[1;31mTypeError\u001b[0m: can only concatenate str (not \"int\") to str"
     ]
    }
   ],
   "source": [
    "First_name = 'Sam' #Declaring first name\n",
    "Lastname = 'Gupta' #Declaring last name\n",
    "Batch = '28' #Declaring batch info\n",
    "Day_number = 2 #Declaring the day of this class\n",
    "print('Hi, this is' + First_name+''+Lastname+' from batch '+Batch)\n",
    "print('Today is our' + Day_number + 'nd day')\n",
    "print('Datatype of firstname is ') \n",
    "type(First_name)\n",
    "print('Datatype of lastname is ') \n",
    "type(Lastname)\n",
    "print('Datatype of batch is ') \n",
    "type(Batch)\n",
    "print('Datatype of day number is ') \n",
    "type(Day_number)"
   ]
  },
  {
   "cell_type": "code",
   "execution_count": 21,
   "metadata": {},
   "outputs": [
    {
     "name": "stdout",
     "output_type": "stream",
     "text": [
      "Hi, this isSam Gupta from batch 28\n",
      "Datatype of firstname is \n",
      "Datatype of lastname is \n",
      "Datatype of batch is \n",
      "Datatype of day number is \n"
     ]
    },
    {
     "data": {
      "text/plain": [
       "int"
      ]
     },
     "execution_count": 21,
     "metadata": {},
     "output_type": "execute_result"
    }
   ],
   "source": [
    "First_name = 'Sam' #Declaring first name\n",
    "Lastname = 'Gupta' #Declaring last name\n",
    "Batch = '28' #Declaring batch info\n",
    "Day_number = 2 #Declaring the day of this class\n",
    "print('Hi, this is' + First_name+' '+Lastname+' from batch '+Batch)\n",
    "print('Datatype of firstname is ') \n",
    "type(First_name)\n",
    "print('Datatype of lastname is ') \n",
    "type(Lastname)\n",
    "print('Datatype of batch is ') \n",
    "type(Batch)\n",
    "print('Datatype of day number is ') \n",
    "type(Day_number)"
   ]
  },
  {
   "cell_type": "code",
   "execution_count": 22,
   "metadata": {},
   "outputs": [
    {
     "name": "stdout",
     "output_type": "stream",
     "text": [
      "Hi, this is Sam Gupta from batch 28\n",
      "Datatype of firstname is \n",
      "Datatype of lastname is \n",
      "Datatype of batch is \n",
      "Datatype of day number is \n"
     ]
    },
    {
     "data": {
      "text/plain": [
       "int"
      ]
     },
     "execution_count": 22,
     "metadata": {},
     "output_type": "execute_result"
    }
   ],
   "source": [
    "First_name = 'Sam' #Declaring first name\n",
    "Lastname = 'Gupta' #Declaring last name\n",
    "Batch = '28' #Declaring batch info\n",
    "Day_number = 2 #Declaring the day of this class\n",
    "print('Hi, this is ' + First_name+' '+Lastname+' from batch '+Batch)\n",
    "print('Datatype of firstname is ') \n",
    "type(First_name)\n",
    "print('Datatype of lastname is ') \n",
    "type(Lastname)\n",
    "print('Datatype of batch is ') \n",
    "type(Batch)\n",
    "print('Datatype of day number is ') \n",
    "type(Day_number)"
   ]
  },
  {
   "cell_type": "code",
   "execution_count": 23,
   "metadata": {},
   "outputs": [
    {
     "name": "stdout",
     "output_type": "stream",
     "text": [
      "Hi, this is Sam Gupta from batch 28\n",
      "Datatype of firstname is \n"
     ]
    },
    {
     "data": {
      "text/plain": [
       "str"
      ]
     },
     "execution_count": 23,
     "metadata": {},
     "output_type": "execute_result"
    }
   ],
   "source": [
    "First_name = 'Sam' #Declaring first name\n",
    "Lastname = 'Gupta' #Declaring last name\n",
    "Batch = '28' #Declaring batch info\n",
    "Day_number = 2 #Declaring the day of this class\n",
    "print('Hi, this is ' + First_name+' '+Lastname+' from batch '+Batch)\n",
    "print('Datatype of firstname is ') \n",
    "type(First_name)"
   ]
  },
  {
   "cell_type": "code",
   "execution_count": 25,
   "metadata": {},
   "outputs": [
    {
     "ename": "IndentationError",
     "evalue": "unindent does not match any outer indentation level (<tokenize>, line 8)",
     "output_type": "error",
     "traceback": [
      "\u001b[1;36m  File \u001b[1;32m\"<tokenize>\"\u001b[1;36m, line \u001b[1;32m8\u001b[0m\n\u001b[1;33m    It should either be defined as First_name or Firstname.\u001b[0m\n\u001b[1;37m    ^\u001b[0m\n\u001b[1;31mIndentationError\u001b[0m\u001b[1;31m:\u001b[0m unindent does not match any outer indentation level\n"
     ]
    }
   ],
   "source": [
    "Day 2 class \n",
    "\n",
    "Notes -\n",
    "\n",
    "    1. There are 3 Rules for defining variables Python -\n",
    "      Rule a.  A variable cannot have namespace in variable name. For example \n",
    "          First name = 'Sam' # This is wrongful declaration\n",
    "        It should either be defined as First_name or Firstname.\n",
    "      Rule b. A variable name cannot start with number. For example\n",
    "           1Salary = '25,000' # This is wrongful declaration\n",
    "        It should be defined as Salary1.\n",
    "      Rule c. A variable cannot have special charater in it. No @,&,$ symbol should be in varible name declaration.\n",
    "\n",
    "    2. There are 5 basic types of datatype in Python\n",
    "      a. String, refered as str\n",
    "      b. Integer, r/f int\n",
    "      c. List, r/f list\n",
    "      d. Tuple r/f tuple\n",
    "      e. Deictionary r/f dict\n",
    "\n",
    "    3. Also, datatypes are classified as mutable(can be edited) & immutable(cannot be edited) datatype. String is immutable datatype.\n",
    "    \n",
    "    4. Type(variable_name), method can be used to know the datatype of a varaiable.\n",
    "\n",
    "Practise CODE -\n",
    "\n",
    "    First_name = 'Sam' #Declaring first name\n",
    "    Lastname = 'Gupta' #Declaring last name\n",
    "    Batch = '28' #Declaring batch info\n",
    "    Day_number = 2 #Declaring the day of this class\n",
    "    print('Hi, this is ' + First_name+' '+Lastname+' from batch '+Batch)\n",
    "    print('Datatype of firstname is ') \n",
    "    type(First_name)\n",
    "   O/P -\n",
    "    Hi, this is Sam Gupta from batch 28\n",
    "    Datatype of firstname is \n",
    "    str"
   ]
  },
  {
   "cell_type": "code",
   "execution_count": null,
   "metadata": {},
   "outputs": [],
   "source": []
  }
 ],
 "metadata": {
  "kernelspec": {
   "display_name": "Python 3",
   "language": "python",
   "name": "python3"
  },
  "language_info": {
   "codemirror_mode": {
    "name": "ipython",
    "version": 3
   },
   "file_extension": ".py",
   "mimetype": "text/x-python",
   "name": "python",
   "nbconvert_exporter": "python",
   "pygments_lexer": "ipython3",
   "version": "3.8.3"
  }
 },
 "nbformat": 4,
 "nbformat_minor": 4
}
