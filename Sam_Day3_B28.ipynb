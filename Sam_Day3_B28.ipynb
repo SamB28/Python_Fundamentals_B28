{
 "cells": [
  {
   "cell_type": "code",
   "execution_count": 1,
   "metadata": {},
   "outputs": [
    {
     "ename": "SyntaxError",
     "evalue": "invalid syntax (<ipython-input-1-1d09f35ecd89>, line 1)",
     "output_type": "error",
     "traceback": [
      "\u001b[1;36m  File \u001b[1;32m\"<ipython-input-1-1d09f35ecd89>\"\u001b[1;36m, line \u001b[1;32m1\u001b[0m\n\u001b[1;33m    Day 3 batch 28 notes -\u001b[0m\n\u001b[1;37m        ^\u001b[0m\n\u001b[1;31mSyntaxError\u001b[0m\u001b[1;31m:\u001b[0m invalid syntax\n"
     ]
    }
   ],
   "source": [
    "Day 3 batch 28 notes -\n",
    "\n",
    "String builtin functions -\n",
    " a. title() # used to convert first charater in each word in a string  \n",
    "    ex: name = sam gupta\n",
    "\t    Print(name.title())\n",
    "\t\to/p - Sam Gupta\n",
    " b. upper() # used to convert all characters in a string to upper case\n",
    "    ex: Print(name.upper())\n",
    "\t    o/p - SAM GUPTA\n",
    " c. lower() # used to convert all characters in a string to lower case\n",
    "    ex: Print(name.lower())\n",
    "\to/p - sam gupta\n",
    " d. Introduction to f strings:\n",
    "    Syntax - f\" {} {placeholders}\"  # The curly bracket will contain the referencing points of the variables created.\n",
    "\tWe can also custom type input as well.\n",
    "\tex: -> 1.\n",
    "\t    firstname = kalyan\n",
    "\t    lastname = ram\n",
    "\t\tfullname = f\"{firstname} {lastname}\"\n",
    "\t\tprint(fullname)\n",
    "\t\to/p: kalyan ram\n",
    "\t\t-> 2.\n",
    "\t\tprint(f\"{fullname.title()} keep up the good work.\"}\n",
    "\t\to/p: Kalyan Ram keep up the good work.\n",
    "\n"
   ]
  },
  {
   "cell_type": "code",
   "execution_count": 2,
   "metadata": {},
   "outputs": [
    {
     "ename": "IndentationError",
     "evalue": "unexpected indent (<ipython-input-2-280be50dd3d3>, line 3)",
     "output_type": "error",
     "traceback": [
      "\u001b[1;36m  File \u001b[1;32m\"<ipython-input-2-280be50dd3d3>\"\u001b[1;36m, line \u001b[1;32m3\u001b[0m\n\u001b[1;33m    company_name = \"indian railway service\"\u001b[0m\n\u001b[1;37m    ^\u001b[0m\n\u001b[1;31mIndentationError\u001b[0m\u001b[1;31m:\u001b[0m unexpected indent\n"
     ]
    }
   ],
   "source": [
    "# Practise for day 3 -\n",
    "# Print a ticket for a customer\n",
    " company_name = \"indian railway service\"\n",
    " customer_firstname = 'sam'\n",
    " customer_lastname = 'gupta'\n",
    " mandate_note = \"please do not loose this ticket, penality must be paid if lost.\"\n",
    " print(f\"{ticketcompany_name.upper()}\")\n",
    " customer_fullname = f\"{customer_firstname} {customer_lastname}\"\n",
    " print(customer_fullname.title())\n",
    " print(f\"{mandate_note.lower()}\")"
   ]
  },
  {
   "cell_type": "code",
   "execution_count": null,
   "metadata": {},
   "outputs": [],
   "source": []
  }
 ],
 "metadata": {
  "kernelspec": {
   "display_name": "Python 3",
   "language": "python",
   "name": "python3"
  },
  "language_info": {
   "codemirror_mode": {
    "name": "ipython",
    "version": 3
   },
   "file_extension": ".py",
   "mimetype": "text/x-python",
   "name": "python",
   "nbconvert_exporter": "python",
   "pygments_lexer": "ipython3",
   "version": "3.8.3"
  }
 },
 "nbformat": 4,
 "nbformat_minor": 4
}
