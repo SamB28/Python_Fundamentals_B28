{
 "cells": [
  {
   "cell_type": "code",
   "execution_count": 1,
   "metadata": {},
   "outputs": [
    {
     "data": {
      "text/plain": [
       "' Notes from Sam_Day10_B28_Mock_Interview_1 \\n\\n1. What is a string?\\n> A string is an immutable datatype in Python. It is a collection of characters. We use single,double & tripple quotes to represent a string.\\n\\n2. What is the use of f string?\\n> f string stand for format string. It is used to reference the string in a custom format. We use f\"  for f string.\\n\\n3. What is a list?\\n> A list is a collection of objects in an order. We use [] for list.\\n\\n4. What is the syntac for a for loop?\\n> for x in list:\\n\\tindendation\\tprint(x)\\n\\n5. What is the difference between sort and sorted?\\n> Sort sorts data in the list permanently, where as sorted will temporarirly sort data.\\n\\tstudent = [\\'a\\',\\'b\\',\\'c\\']\\n\\tprint(sorted(student))\\n\\tstudent.sort()\\n\\tprint(student)\\n\\n6. What is a tuple datatype?\\n> A tuple is an immutable list. We use () for tuple. We generally use it to store data that cannot be edited like password.\\n\\n7. Explain the concept of conditional statements?\\n> A conditional statement is used to define the action the code needs to take when a specific scenario/condition is met. We have if,if else & elif conditional statements in Python.\\n\\n8.  name = \\'shafi m\\'\\n\\tWhat is the string method that can be used to to show the name in proper format?\\n   > We need to use name.title() to have the name outputed in proper format.\\n \\n9. students = [\\'a\\',\\'b\\',\\'c\\',\\'d\\',\\'e\\']\\n   What is the method to get the total count of this list?\\n  >len(students) is the function to print the total count of students list.\\n  \\n10. student \\'f\\' I need added to the students list. How do I do that?\\n> We can use append to add \\'f\\' student to the students list. This will add \\'e\\' to the end of the list. To add \\'f\\' in a specific possition, we need to use insert.\\n  students.append[\\'f\\'] -- Will make the list as: [\\'a\\',\\'b\\',\\'c\\',\\'d\\',\\'e\\',\\'f\\']\\n  students.insert(3,\\'f\\'] -- [\\'a\\',\\'b\\',\\'c\\',\\'f\\',\\'d\\',\\'e\\']\\n\\n11. What is difference between tuple & list?\\n> A tuple is an immutable list. A tuple is refered by () whereas a list is refered by []\\n  students = [\\'a\\',\\'b\\']  -- This is a list\\n  student_ids = (1,2)   -- This is a tuple.\\n  \\n12. What is dictionaries?\\n> A dictionaries is a mutable key:value order datatype in Python. We use {} to refer the dictionaries. The value inside a dictionary can be edited but not the key.\\n  employee = {\\'id\\':675433,\\'name\\':\\'sam\\',\\'batch\\':\\'B28\\'}\\n  Here, employee is the of dictionary datatype.\\n  id,name,batch - Are the keys.\\n  675433, sam, B28 - Are the values for the above keys respectively.\\n  A value can never be empty or null.\\n\\n\\n'"
      ]
     },
     "execution_count": 1,
     "metadata": {},
     "output_type": "execute_result"
    }
   ],
   "source": [
    "\"\"\" Notes from Sam_Day10_B28_Mock_Interview_1 \n",
    "\n",
    "1. What is a string?\n",
    "> A string is an immutable datatype in Python. It is a collection of characters. We use single,double & tripple quotes to represent a string.\n",
    "\n",
    "2. What is the use of f string?\n",
    "> f string stand for format string. It is used to reference the string in a custom format. We use f\"  for f string.\n",
    "\n",
    "3. What is a list?\n",
    "> A list is a collection of objects in an order. We use [] for list.\n",
    "\n",
    "4. What is the syntac for a for loop?\n",
    "> for x in list:\n",
    "\tindendation\tprint(x)\n",
    "\n",
    "5. What is the difference between sort and sorted?\n",
    "> Sort sorts data in the list permanently, where as sorted will temporarirly sort data.\n",
    "\tstudent = ['a','b','c']\n",
    "\tprint(sorted(student))\n",
    "\tstudent.sort()\n",
    "\tprint(student)\n",
    "\n",
    "6. What is a tuple datatype?\n",
    "> A tuple is an immutable list. We use () for tuple. We generally use it to store data that cannot be edited like password.\n",
    "\n",
    "7. Explain the concept of conditional statements?\n",
    "> A conditional statement is used to define the action the code needs to take when a specific scenario/condition is met. We have if,if else & elif conditional statements in Python.\n",
    "\n",
    "8.  name = 'shafi m'\n",
    "\tWhat is the string method that can be used to to show the name in proper format?\n",
    "   > We need to use name.title() to have the name outputed in proper format.\n",
    " \n",
    "9. students = ['a','b','c','d','e']\n",
    "   What is the method to get the total count of this list?\n",
    "  >len(students) is the function to print the total count of students list.\n",
    "  \n",
    "10. student 'f' I need added to the students list. How do I do that?\n",
    "> We can use append to add 'f' student to the students list. This will add 'e' to the end of the list. To add 'f' in a specific possition, we need to use insert.\n",
    "  students.append['f'] -- Will make the list as: ['a','b','c','d','e','f']\n",
    "  students.insert(3,'f'] -- ['a','b','c','f','d','e']\n",
    "\n",
    "11. What is difference between tuple & list?\n",
    "> A tuple is an immutable list. A tuple is refered by () whereas a list is refered by []\n",
    "  students = ['a','b']  -- This is a list\n",
    "  student_ids = (1,2)   -- This is a tuple.\n",
    "  \n",
    "12. What is dictionaries?\n",
    "> A dictionaries is a mutable key:value order datatype in Python. We use {} to refer the dictionaries. The value inside a dictionary can be edited but not the key.\n",
    "  employee = {'id':675433,'name':'sam','batch':'B28'}\n",
    "  Here, employee is the of dictionary datatype.\n",
    "  id,name,batch - Are the keys.\n",
    "  675433, sam, B28 - Are the values for the above keys respectively.\n",
    "  A value can never be empty or null.\n",
    "\n",
    "\n",
    "\"\"\" "
   ]
  }
 ],
 "metadata": {
  "kernelspec": {
   "display_name": "Python 3",
   "language": "python",
   "name": "python3"
  },
  "language_info": {
   "codemirror_mode": {
    "name": "ipython",
    "version": 3
   },
   "file_extension": ".py",
   "mimetype": "text/x-python",
   "name": "python",
   "nbconvert_exporter": "python",
   "pygments_lexer": "ipython3",
   "version": "3.8.3"
  }
 },
 "nbformat": 4,
 "nbformat_minor": 4
}
