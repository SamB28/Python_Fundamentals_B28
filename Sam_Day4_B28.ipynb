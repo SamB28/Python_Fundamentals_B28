{
 "cells": [
  {
   "cell_type": "code",
   "execution_count": 1,
   "metadata": {},
   "outputs": [
    {
     "data": {
      "text/plain": [
       "\" Notes from day 4 B28\\n\\nIntroduction to list datatype:\\nA list is collection of items in a particular order\\nA list is mutable, which means we can edit/alter data assisned to it.\\n\\tSyntax: []\\n\\tex: students = ['sam','abhi','jv'] # indexing in list always starts with 0,1,2,3... so, students[1] will hold 'abhi'\\n\\nTo verify the datatype of students, we can do - \\n\\ttype(students)\\n\\to/p will be - list\\n\\nprint(students[2].title())\\n\\n1. Add new elements to the list\\n.append(string) - function is used to append data to list\\n\\tex:\\n\\tstudents.append('vaibhav')\\n\\tprint(students)\\n\\t['sam','abhi','jv','vaibhav']\\n\\nAppend function will always append data at the end of the list.\\n.insert(indx,string) - \\n\\tIn order to add data to custom position of the list, we need to use insert function instead of append.\\n\\tstudents.insert(2,'mani')\\n\\tprint(students)\\n\\t['sam','abhi','mani','jv','vaibhav']\\n\\n2. Reassign new elements to the list\\nReassigning can be done directly.\\n\\tstudents[1] = 'abshk'\\n\\tprint(students)\\n\\t['sam','abshk','mani','jv','vaibhav']\\n\\n3. Delete the elements in the list\\ndel list[indx]\\n\\n\\tdel students[2]\\n\\tprint(students)\\n\\t['sam','abshk','jv','vaibhav']\\n\\n\""
      ]
     },
     "execution_count": 1,
     "metadata": {},
     "output_type": "execute_result"
    }
   ],
   "source": [
    "\"\"\" Notes from day 4 B28\n",
    "\n",
    "Introduction to list datatype:\n",
    "A list is collection of items in a particular order\n",
    "A list is mutable, which means we can edit/alter data assisned to it.\n",
    "\tSyntax: []\n",
    "\tex: students = ['sam','abhi','jv'] # indexing in list always starts with 0,1,2,3... so, students[1] will hold 'abhi'\n",
    "\n",
    "To verify the datatype of students, we can do - \n",
    "\ttype(students)\n",
    "\to/p will be - list\n",
    "\n",
    "print(students[2].title())\n",
    "\n",
    "1. Add new elements to the list\n",
    ".append(string) - function is used to append data to list\n",
    "\tex:\n",
    "\tstudents.append('vaibhav')\n",
    "\tprint(students)\n",
    "\t['sam','abhi','jv','vaibhav']\n",
    "\n",
    "Append function will always append data at the end of the list.\n",
    ".insert(indx,string) - \n",
    "\tIn order to add data to custom position of the list, we need to use insert function instead of append.\n",
    "\tstudents.insert(2,'mani')\n",
    "\tprint(students)\n",
    "\t['sam','abhi','mani','jv','vaibhav']\n",
    "\n",
    "2. Reassign new elements to the list\n",
    "Reassigning can be done directly.\n",
    "\tstudents[1] = 'abshk'\n",
    "\tprint(students)\n",
    "\t['sam','abshk','mani','jv','vaibhav']\n",
    "\n",
    "3. Delete the elements in the list\n",
    "del list[indx]\n",
    "\n",
    "\tdel students[2]\n",
    "\tprint(students)\n",
    "\t['sam','abshk','jv','vaibhav']\n",
    "\n",
    "\"\"\""
   ]
  },
  {
   "cell_type": "code",
   "execution_count": 2,
   "metadata": {},
   "outputs": [
    {
     "ename": "SyntaxError",
     "evalue": "invalid syntax (<fstring>, line 1)",
     "output_type": "error",
     "traceback": [
      "\u001b[1;36m  File \u001b[1;32m\"<fstring>\"\u001b[1;36m, line \u001b[1;32m1\u001b[0m\n\u001b[1;33m    (After adding new employees, the order is employee_joining_order.title())\u001b[0m\n\u001b[1;37m           ^\u001b[0m\n\u001b[1;31mSyntaxError\u001b[0m\u001b[1;31m:\u001b[0m invalid syntax\n"
     ]
    }
   ],
   "source": [
    "# Practise for day 4, there has been wrong entries in employee joining order. So, fix it!\n",
    "company_name = 'Python Inc'\n",
    "employee_joining_order = ['abhi','ravi','Harish','VIKRAM','vishnu']\n",
    "# First add 2 new emploees, Rami who joined 3rd and Kaplesh who joined yesterday\n",
    "employee_joining_order.append('Kaplesh')\n",
    "employee_joining_order.insert(3,'Rami')\n",
    "print(f\"{After adding new employees, the order is employee_joining_order.title()}\")\n",
    "\n",
    "#Vikral name was spelled wrong, fix it\n",
    "employee_joining_order[4] = 'Vikral'\n",
    "print(f\"{After editing wrong employee info, the order is employee_joining_order.title()}\")\n",
    "\n",
    "#Harish was used as dummy joiner name, delete it\n",
    "del employee_joining_order[2]\n",
    "print(f\"{After removing dummy employee, the order is employee_joining_order.title()}\")"
   ]
  },
  {
   "cell_type": "code",
   "execution_count": null,
   "metadata": {},
   "outputs": [],
   "source": []
  }
 ],
 "metadata": {
  "kernelspec": {
   "display_name": "Python 3",
   "language": "python",
   "name": "python3"
  },
  "language_info": {
   "codemirror_mode": {
    "name": "ipython",
    "version": 3
   },
   "file_extension": ".py",
   "mimetype": "text/x-python",
   "name": "python",
   "nbconvert_exporter": "python",
   "pygments_lexer": "ipython3",
   "version": "3.8.3"
  }
 },
 "nbformat": 4,
 "nbformat_minor": 4
}
