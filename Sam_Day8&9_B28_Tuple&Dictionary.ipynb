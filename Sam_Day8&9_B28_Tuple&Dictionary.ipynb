{
 "cells": [
  {
   "cell_type": "code",
   "execution_count": 2,
   "metadata": {},
   "outputs": [
    {
     "data": {
      "text/plain": [
       "\" Notes from Sam_Day8&9_B28_Tuple&Dictionary \\n\\nIntroduction to touple datatype:\\n\\nTuple - An immutable list is a Tupple. \\nHow to defina a tuple? We define using a paranthesis - ()\\nEx: dimensions = (200,50)\\n    print(dimensions)\\n\\t> (200,50)\\n\\tprint(dimensions[1])\\n\\t> 50\\n\\nintroduction to dictionary datatype:  dict\\n\\nA dictionary is a mutable datatype and is a combination of key:value pairs. Note: The value cannot be null/empty, inside a key.\\nHow to define a dictionary --> by using {}\\nA dictionary is used in mostly all the real world objects.\\n\\nRequirement: Create a username for Github account\\n\\nusername = {'firstname':'Sam','lastname':'B28','email':'samB28@gmail.com','dob':'01-01-2019'}\\n\\t\\t\\t\\tkey\\t   : Value\\t\\tKey:Value\\t....\\n\\n1. How to access data in dictionary?\\n\\nprint(username['email'])  # Note - Data can be accessed only by giving the key. A key needs tto be passed to get its respective value.\\n> samB28@gmail.com\\nYou cannot give value to get the key.\\nprint(username['samB28@gmail.com'])\\n> KeyError \\n\\n2. How to add data to dictionary object?\\n\\nusername['phonenum'] = '9499236652'\\nprint(username)\\n> {'firstname':'Sam','lastname':'B28','email':'samB28@gmail.com','dob':'01-01-2019','phonenum':'9499236652'}\\n\\n3. How to edit value for a key in dict object?\\n\\nThis is the current lastname - B28\\nChange it to - Batch28\\n\\nusername['lastname'] = 'Batch28'\\nprint(username)\\n> {'firstname':'Sam','lastname':'Batch28','email':'samB28@gmail.com','dob':'01-01-2019','phonenum':'9499236652'}\\n\\n# Note - You cannot edit Key in a dictionary, you can edit only value of the key.\\n\\n4. How to delete a key in dictionary?\\n\\ndel username['dob']\\nprint(username)\\n> {'firstname':'Sam','lastname':'Batch28','email':'samB28@gmail.com','phonenum':'9499236652'}\\n\\n\\n\""
      ]
     },
     "execution_count": 2,
     "metadata": {},
     "output_type": "execute_result"
    }
   ],
   "source": [
    "\"\"\" Notes from Sam_Day8&9_B28_Tuple&Dictionary \n",
    "\n",
    "Introduction to touple datatype:\n",
    "\n",
    "Tuple - An immutable list is a Tupple. \n",
    "How to defina a tuple? We define using a paranthesis - ()\n",
    "Ex: dimensions = (200,50)\n",
    "    print(dimensions)\n",
    "\t> (200,50)\n",
    "\tprint(dimensions[1])\n",
    "\t> 50\n",
    "\n",
    "introduction to dictionary datatype:  dict\n",
    "\n",
    "A dictionary is a mutable datatype and is a combination of key:value pairs. Note: The value cannot be null/empty, inside a key.\n",
    "How to define a dictionary --> by using {}\n",
    "A dictionary is used in mostly all the real world objects.\n",
    "\n",
    "Requirement: Create a username for Github account\n",
    "\n",
    "username = {'firstname':'Sam','lastname':'B28','email':'samB28@gmail.com','dob':'01-01-2019'}\n",
    "\t\t\t\tkey\t   : Value\t\tKey:Value\t....\n",
    "\n",
    "1. How to access data in dictionary?\n",
    "\n",
    "print(username['email'])  # Note - Data can be accessed only by giving the key. A key needs tto be passed to get its respective value.\n",
    "> samB28@gmail.com\n",
    "You cannot give value to get the key.\n",
    "print(username['samB28@gmail.com'])\n",
    "> KeyError \n",
    "\n",
    "2. How to add data to dictionary object?\n",
    "\n",
    "username['phonenum'] = '9499236652'\n",
    "print(username)\n",
    "> {'firstname':'Sam','lastname':'B28','email':'samB28@gmail.com','dob':'01-01-2019','phonenum':'9499236652'}\n",
    "\n",
    "3. How to edit value for a key in dict object?\n",
    "\n",
    "This is the current lastname - B28\n",
    "Change it to - Batch28\n",
    "\n",
    "username['lastname'] = 'Batch28'\n",
    "print(username)\n",
    "> {'firstname':'Sam','lastname':'Batch28','email':'samB28@gmail.com','dob':'01-01-2019','phonenum':'9499236652'}\n",
    "\n",
    "# Note - You cannot edit Key in a dictionary, you can edit only value of the key.\n",
    "\n",
    "4. How to delete a key in dictionary?\n",
    "\n",
    "del username['dob']\n",
    "print(username)\n",
    "> {'firstname':'Sam','lastname':'Batch28','email':'samB28@gmail.com','phonenum':'9499236652'}\n",
    "\n",
    "\n",
    "\"\"\"\n",
    "\n"
   ]
  },
  {
   "cell_type": "code",
   "execution_count": null,
   "metadata": {},
   "outputs": [],
   "source": []
  }
 ],
 "metadata": {
  "kernelspec": {
   "display_name": "Python 3",
   "language": "python",
   "name": "python3"
  },
  "language_info": {
   "codemirror_mode": {
    "name": "ipython",
    "version": 3
   },
   "file_extension": ".py",
   "mimetype": "text/x-python",
   "name": "python",
   "nbconvert_exporter": "python",
   "pygments_lexer": "ipython3",
   "version": "3.8.3"
  }
 },
 "nbformat": 4,
 "nbformat_minor": 4
}
