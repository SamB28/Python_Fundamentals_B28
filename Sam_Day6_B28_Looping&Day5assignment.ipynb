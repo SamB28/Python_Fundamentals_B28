{
 "cells": [
  {
   "cell_type": "code",
   "execution_count": 1,
   "metadata": {},
   "outputs": [
    {
     "data": {
      "text/plain": [
       "' Notes from Sam_Day6_B28_Looping\\n\\nIntroduction to looping statement\\n\\nstudents = [\\'ravi\\',\\'kumar\\',\\'ishwarya\\',\\'harika\\',\\'muskan\\',\\'vrinda\\',\\'sam\\']  # This is the main variable, as it is declared in the begining of the code.\\ntype(students)\\n>list\\n\\nprint(f\"Keep up the good work, {students[6].title()}\")\\n>Keep up the good work, Sam\\n\\n# Appreciate all students at once using loops\\n\\n# enhanced code -\\n\\nfor student in students:  # student is temporary variable and can be named anything, whereas students is the main variable\\n\\tprint(f\"Keep up the good work,, {student.title()}. \\n\")\\n> Keep up the good work, Ravi\\n  Keep up the good work, Kumar\\n  ..\\n  ..\\n  Keep up the good work, Sam\\n\\nFor Syntax -\\nfor tempvar in mainvar:\\n\\tprint(tempvar)  # Mind the indentation before print statement\\n\\t\\n\\t\\nExample :\\nfor x in students:\\n\\tprint(f\"Keep up the good work, {x.title()}.\")\\n\\tprint(f\"Do send me the practise files of today, {x.title()}.\\n\")\\n\\n'"
      ]
     },
     "execution_count": 1,
     "metadata": {},
     "output_type": "execute_result"
    }
   ],
   "source": [
    "\"\"\" Notes from Sam_Day6_B28_Looping\n",
    "\n",
    "Introduction to looping statement\n",
    "\n",
    "students = ['ravi','kumar','ishwarya','harika','muskan','vrinda','sam']  # This is the main variable, as it is declared in the begining of the code.\n",
    "type(students)\n",
    ">list\n",
    "\n",
    "print(f\"Keep up the good work, {students[6].title()}\")\n",
    ">Keep up the good work, Sam\n",
    "\n",
    "# Appreciate all students at once using loops\n",
    "\n",
    "# enhanced code -\n",
    "\n",
    "for student in students:  # student is temporary variable and can be named anything, whereas students is the main variable\n",
    "\tprint(f\"Keep up the good work,, {student.title()}. \\n\")\n",
    "> Keep up the good work, Ravi\n",
    "  Keep up the good work, Kumar\n",
    "  ..\n",
    "  ..\n",
    "  Keep up the good work, Sam\n",
    "\n",
    "For Syntax -\n",
    "for tempvar in mainvar:\n",
    "\tprint(tempvar)  # Mind the indentation before print statement\n",
    "\t\n",
    "\t\n",
    "Example :\n",
    "for x in students:\n",
    "\tprint(f\"Keep up the good work, {x.title()}.\")\n",
    "\tprint(f\"Do send me the practise files of today, {x.title()}.\\n\")\n",
    "\n",
    "\"\"\""
   ]
  },
  {
   "cell_type": "code",
   "execution_count": 2,
   "metadata": {},
   "outputs": [
    {
     "name": "stdout",
     "output_type": "stream",
     "text": [
      "Employee joining order based on alphabets: ['Illiyas', 'Ram', 'YOKAI', 'pam', 'sam', 'sun', 'yun']\n",
      "The real joining order based on joining date is :['Ram', 'sam', 'pam', 'yun', 'sun', 'YOKAI', 'Illiyas']\n",
      "Total number of emplyees currently: 7\n",
      "Updated employees list: ['Ram', 'sam', 'pam', 'yun', 'sun', 'YOKAI', 'Illiyas', 'TULLY', 'Ramya_1']\n",
      "Total number of current employees: 9\n",
      "The oldest 2 employees who has been with the company are: ['Ram', 'sam']\n",
      "The newest 2 employees who joined the company recently are: ['TULLY', 'Ramya_1']\n",
      "The oldest & newest employee joined in our company are: ['Ram', 'Ramya_1']\n",
      "Employee joining order from newest to oldest: None\n",
      "Employee joining order from oldest to newest: None\n",
      "Thank you being part of our company Illiyas, we wish you and your family Happy Newyear! \n",
      "\n",
      "Thank you being part of our company Ram, we wish you and your family Happy Newyear! \n",
      "\n",
      "Thank you being part of our company Ramya_1, we wish you and your family Happy Newyear! \n",
      "\n",
      "Thank you being part of our company Tully, we wish you and your family Happy Newyear! \n",
      "\n",
      "Thank you being part of our company Yokai, we wish you and your family Happy Newyear! \n",
      "\n",
      "Thank you being part of our company Pam, we wish you and your family Happy Newyear! \n",
      "\n",
      "Thank you being part of our company Sam, we wish you and your family Happy Newyear! \n",
      "\n",
      "Thank you being part of our company Sun, we wish you and your family Happy Newyear! \n",
      "\n",
      "Thank you being part of our company Yun, we wish you and your family Happy Newyear! \n",
      "\n",
      "As part of celebration, the next week will be paid holiday for all the employees\n"
     ]
    }
   ],
   "source": [
    "# Practise for Day 5 & 6 - List organizing, slicing & for loops\n",
    "\n",
    "Employees_joining_order = ['Ram','sam','pam','yun','sun','YOKAI','Illiyas']\n",
    "#\t\t\t\t\t\t\t0\t   1\t 2\t   3\t 4\t   5\t    6\n",
    "#Print employee joining in alphabetical order along with the original order\n",
    "print(f\"Employee joining order based on alphabets: {sorted(Employees_joining_order)}\")\n",
    "print(f\"The real joining order based on joining date is :{Employees_joining_order}\")\n",
    "print(f\"Total number of emplyees currently: {len(Employees_joining_order)}\")\n",
    "# Newly joined employees, adding them to the list\n",
    "Employees_joining_order.append('TULLY')\n",
    "Employees_joining_order.append('Ramya_1')\n",
    "print(f\"Updated employees list: {Employees_joining_order}\")\n",
    "# Please get the employee's name who joined first and the one joined most recently\n",
    "a = len(Employees_joining_order)\n",
    "print(f\"Total number of current employees: {a}\")\n",
    "print(f\"The oldest 2 employees who has been with the company are: {Employees_joining_order[0:2]}\")\n",
    "print(f\"The newest 2 employees who joined the company recently are: {Employees_joining_order[a-2:a]}\")\n",
    "print(f\"The oldest & newest employee joined in our company are: {Employees_joining_order[0:a:a-1]}\")\n",
    "print(f\"Employee joining order from newest to oldest: {Employees_joining_order.reverse()}\")\n",
    "print(f\"Employee joining order from oldest to newest: {Employees_joining_order.sort()}\")\n",
    "# Print new year wishes for all the employees\n",
    "for people in Employees_joining_order:\n",
    "      print(f\"Thank you being part of our company {people.title()}, we wish you and your family Happy Newyear! \\n\")\n",
    "print(\"As part of celebration, the next week will be paid holiday for all the employees\")"
   ]
  },
  {
   "cell_type": "code",
   "execution_count": null,
   "metadata": {},
   "outputs": [],
   "source": []
  }
 ],
 "metadata": {
  "kernelspec": {
   "display_name": "Python 3",
   "language": "python",
   "name": "python3"
  },
  "language_info": {
   "codemirror_mode": {
    "name": "ipython",
    "version": 3
   },
   "file_extension": ".py",
   "mimetype": "text/x-python",
   "name": "python",
   "nbconvert_exporter": "python",
   "pygments_lexer": "ipython3",
   "version": "3.8.3"
  }
 },
 "nbformat": 4,
 "nbformat_minor": 4
}
